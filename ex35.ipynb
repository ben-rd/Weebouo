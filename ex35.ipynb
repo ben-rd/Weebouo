{
 "cells": [
  {
   "cell_type": "code",
   "execution_count": 14,
   "metadata": {},
   "outputs": [
    {
     "name": "stdout",
     "output_type": "stream",
     "text": [
      "you are in a dark room.\n",
      "there is a door to your right and left\n",
      "which one do you take?\n",
      "> left\n",
      "There is a bear here.\n",
      "The Bear has a bunch of honey\n",
      "The fat bear is in fron of another door\n",
      "how are you going to move the bear?\n",
      "> taunt bear\n",
      "The bear has moved to the door. you can go through it now.\n",
      "> open door\n",
      "this room is fill of gold. How much do you take?\n",
      "> 1000\n",
      "you greedy bastard! , good job!\n"
     ]
    },
    {
     "ename": "SystemExit",
     "evalue": "0",
     "output_type": "error",
     "traceback": [
      "An exception has occurred, use %tb to see the full traceback.\n",
      "\u001b[1;31mSystemExit\u001b[0m\u001b[1;31m:\u001b[0m 0\n"
     ]
    }
   ],
   "source": [
    "from sys import exit\n",
    "\n",
    "def gold_room():\n",
    "    print (\"this room is fill of gold. How much do you take?\")\n",
    "    \n",
    "    next = input(\"> \")\n",
    "    if \"0\" in next or \"1\" in next:\n",
    "        how_much = int (next)\n",
    "    else:\n",
    "        dead(\"Man, you should learn to type a number\")\n",
    "        \n",
    "    if how_much < 50:\n",
    "        print(\"Nice, you are not greedy, you win!\")\n",
    "        exit(0)\n",
    "    else:\n",
    "        dead(\"you greedy bastard!\")\n",
    "        \n",
    "def bear_room():\n",
    "    print(\"There is a bear here.\")\n",
    "    print(\"The Bear has a bunch of honey\")\n",
    "    print(\"The fat bear is in fron of another door\")\n",
    "    print(\"how are you going to move the bear?\")\n",
    "    bear_moved = False\n",
    "    \n",
    "    while True:\n",
    "        next = input(\"> \")\n",
    "        \n",
    "        if next == (\"take honey\"):\n",
    "            dead(\"the bear looks at you then slaps your face off.\")\n",
    "        elif next == (\"taunt bear\") and not bear_moved:\n",
    "            print(\"The bear has moved to the door. you can go through it now.\")\n",
    "            bear_moved = True\n",
    "        elif next == (\"taunt bear\") and bear_moved:\n",
    "            dead(\"the bear gets pissed off and chews your leg off.\")\n",
    "        elif next == (\"open door\") and bear_moved:\n",
    "            gold_room()\n",
    "        else:\n",
    "            print(\"I got no idea what that means.\")\n",
    "\n",
    "def cthulhu_room():\n",
    "    print(\"Here you see the great evil Cthulhu.\")\n",
    "    print(\"He, itm whatever stares at you and you go insane.\")\n",
    "    print(\"Do you flee for your life or eat your head?\")\n",
    "    \n",
    "    next = input(\"> \")\n",
    "    \n",
    "    if (\"flee\") in next:\n",
    "        start()\n",
    "    elif (\"head\") in next:\n",
    "        dead(\"well that was tasty!\")\n",
    "    else:\n",
    "        cthulhu_room()\n",
    "        \n",
    "def dead(why):\n",
    "    print (why, \", good job!\")\n",
    "    exit(0)\n",
    "    \n",
    "def start():\n",
    "    print(\"you are in a dark room.\")\n",
    "    print(\"there is a door to your right and left\")\n",
    "    print(\"which one do you take?\")\n",
    "    \n",
    "    next = input(\"> \")\n",
    "    \n",
    "    if next == (\"left\"):\n",
    "        bear_room()\n",
    "    elif next == (\"right\"):\n",
    "        cthulhu_room()\n",
    "    else:\n",
    "        dead(\"you stumble around the room until you starve\")\n",
    "\n",
    "start()\n",
    "        "
   ]
  },
  {
   "cell_type": "code",
   "execution_count": 11,
   "metadata": {},
   "outputs": [],
   "source": [
    "def dead(why):\n",
    "    print (why,\"goodjob\")"
   ]
  },
  {
   "cell_type": "code",
   "execution_count": null,
   "metadata": {},
   "outputs": [],
   "source": []
  }
 ],
 "metadata": {
  "kernelspec": {
   "display_name": "Python 3",
   "language": "python",
   "name": "python3"
  },
  "language_info": {
   "codemirror_mode": {
    "name": "ipython",
    "version": 3
   },
   "file_extension": ".py",
   "mimetype": "text/x-python",
   "name": "python",
   "nbconvert_exporter": "python",
   "pygments_lexer": "ipython3",
   "version": "3.7.3"
  }
 },
 "nbformat": 4,
 "nbformat_minor": 2
}
