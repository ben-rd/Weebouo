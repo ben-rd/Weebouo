{
 "cells": [
  {
   "cell_type": "code",
   "execution_count": 1,
   "metadata": {},
   "outputs": [
    {
     "name": "stdout",
     "output_type": "stream",
     "text": [
      "we should take a cars.\n",
      "maybe we could take buses.\n",
      "alright, let's just take the buses.\n"
     ]
    }
   ],
   "source": [
    "people = 30\n",
    "cars = 40\n",
    "buses = 15\n",
    "\n",
    "if cars > people:\n",
    "    print(\"we should take a cars.\")\n",
    "elif cars < people:\n",
    "    print(\"we should not take the cars.\")\n",
    "else:\n",
    "    print(\"we can't decide.\")\n",
    "    \n",
    "if buses > cars:\n",
    "    print(\"that's to many buses.\")\n",
    "elif buses < cars:\n",
    "    print(\"maybe we could take buses.\")\n",
    "else:\n",
    "    print(\"we still can't decide.\")\n",
    "\n",
    "if people > buses:\n",
    "    print(\"alright, let's just take the buses.\")\n",
    "else:\n",
    "    print(\"fine, let's stay home then.\")\n",
    "\n",
    "        "
   ]
  },
  {
   "cell_type": "code",
   "execution_count": null,
   "metadata": {},
   "outputs": [],
   "source": []
  }
 ],
 "metadata": {
  "kernelspec": {
   "display_name": "Python 3",
   "language": "python",
   "name": "python3"
  },
  "language_info": {
   "codemirror_mode": {
    "name": "ipython",
    "version": 3
   },
   "file_extension": ".py",
   "mimetype": "text/x-python",
   "name": "python",
   "nbconvert_exporter": "python",
   "pygments_lexer": "ipython3",
   "version": "3.5.6"
  }
 },
 "nbformat": 4,
 "nbformat_minor": 2
}
