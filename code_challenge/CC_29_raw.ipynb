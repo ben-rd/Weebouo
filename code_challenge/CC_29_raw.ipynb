{
 "cells": [
  {
   "cell_type": "code",
   "execution_count": 16,
   "metadata": {},
   "outputs": [
    {
     "name": "stdout",
     "output_type": "stream",
     "text": [
      ">andAdgnN\n",
      "['a', 'n', 'd', 'A', 'd', 'g', 'n', 'N']\n",
      "['a', 'n', 'd', 'A', 'g', 'N']\n",
      "0\n",
      "[1, 2, 3, 4, 5, 6]\n",
      "{1: 'a', 2: 'n', 3: 'd', 4: 'A', 5: 'g', 6: 'N'}\n"
     ]
    }
   ],
   "source": [
    "a = input(\">\")\n",
    "\n",
    "list(a)\n",
    "b=list(a)\n",
    "print(b)\n",
    "\n",
    "c = list(dict.fromkeys(b))\n",
    "d = [int(s) for s in c if s.isdigit()]\n",
    "print(c)\n",
    "print(len(d))\n",
    "i=1\n",
    "e=[]\n",
    "for x in c:\n",
    "    e.append(i)\n",
    "    i=i+1\n",
    "    \n",
    "print(e)\n",
    "dictionary = dict(zip(e, c))\n",
    "\n",
    "print(dictionary)\n",
    "\n",
    "\n",
    "    "
   ]
  },
  {
   "cell_type": "code",
   "execution_count": null,
   "metadata": {},
   "outputs": [],
   "source": [
    "print(\"type the input: \")\n",
    "\n",
    "a = input(\">\")\n",
    "b=list(a)\n",
    "c = list(dict.fromkeys(b))\n",
    "d = [int(s) for s in c if s.isdigit()]\n",
    "\n",
    "if d > 0:\n",
    "    print(\"error\")\n",
    "    \n",
    "else:\n",
    "    i=1\n",
    "    e=[]\n",
    "    for x in c:\n",
    "        e.append(i)\n",
    "        i=i+1\n",
    "        \n",
    "dictionary = dict(zip(e, c))\n",
    "reverse_subs = { v:k for k,v in dictionary.items()}\n",
    "\n",
    "converted_list=[reverse_subs.get(item,item)  for item in c]\n",
    "\n",
    "print(converted_list)\n",
    "\n",
    "    \n",
    "\n"
   ]
  },
  {
   "cell_type": "code",
   "execution_count": 14,
   "metadata": {},
   "outputs": [
    {
     "name": "stdout",
     "output_type": "stream",
     "text": [
      "[23, 11, 2] ['h3110', '23', 'cat', '444.4', 'rabbit', '11', '2', 'dog']\n"
     ]
    }
   ],
   "source": [
    "str = \"h3110 23 cat 444.4 rabbit 11 2 dog\"\n",
    "a = [int(s) for s in str.split() if s.isdigit()]\n",
    "b = str.split()\n",
    "print (a, b)\n"
   ]
  },
  {
   "cell_type": "code",
   "execution_count": 29,
   "metadata": {},
   "outputs": [
    {
     "name": "stdout",
     "output_type": "stream",
     "text": [
      "Letter A\n"
     ]
    }
   ],
   "source": [
    "\n",
    "\n",
    "my_nested_dictionary = {'mydict': {'A': 'Letter A', 'B': 'Letter C', 'C': 'Letter C'}}\n",
    "print(my_nested_dictionary['mydict']['A'])"
   ]
  },
  {
   "cell_type": "code",
   "execution_count": 27,
   "metadata": {},
   "outputs": [
    {
     "name": "stdout",
     "output_type": "stream",
     "text": [
      "{'a': 1, 'b': 2, 'c': 3}\n"
     ]
    }
   ],
   "source": [
    "keys = ['a', 'b', 'c']\n",
    "values = [1, 2, 3]\n",
    "dictionary = dict(zip(keys, values))\n",
    "print(dictionary)"
   ]
  },
  {
   "cell_type": "code",
   "execution_count": 17,
   "metadata": {},
   "outputs": [
    {
     "data": {
      "text/plain": [
       "[1, 2, 3, 4, 3, 5, 2, 6]"
      ]
     },
     "execution_count": 17,
     "metadata": {},
     "output_type": "execute_result"
    }
   ],
   "source": [
    "my_lst = ['a', 'n', 'd', 'A', 'd', 'g', 'n', 'N']\n",
    "\n",
    "\n",
    "\n",
    "subs = {1: 'a', 2: 'n', 3: 'd', 4: 'A', 5: 'g', 6: 'N'}\n",
    "rev_subs = { v:k for k,v in subs.items()}\n",
    "[rev_subs.get(item,item)  for item in my_lst]\n"
   ]
  },
  {
   "cell_type": "code",
   "execution_count": null,
   "metadata": {},
   "outputs": [],
   "source": []
  }
 ],
 "metadata": {
  "kernelspec": {
   "display_name": "Python 3",
   "language": "python",
   "name": "python3"
  },
  "language_info": {
   "codemirror_mode": {
    "name": "ipython",
    "version": 3
   },
   "file_extension": ".py",
   "mimetype": "text/x-python",
   "name": "python",
   "nbconvert_exporter": "python",
   "pygments_lexer": "ipython3",
   "version": "3.7.3"
  }
 },
 "nbformat": 4,
 "nbformat_minor": 2
}
