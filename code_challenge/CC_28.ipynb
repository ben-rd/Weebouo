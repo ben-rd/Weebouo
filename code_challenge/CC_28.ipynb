{
 "cells": [
  {
   "cell_type": "code",
   "execution_count": 11,
   "metadata": {},
   "outputs": [
    {
     "name": "stdout",
     "output_type": "stream",
     "text": [
      "input your desired size of the list:\n",
      "> 10\n",
      "[0, 1, 1, 0, 1, 1, 1, 1, 1, 1] => 2\n"
     ]
    }
   ],
   "source": [
    "import random\n",
    "from more_itertools import split_after\n",
    "\n",
    "print(\"input your desired size of the list:\")\n",
    "size1 = input(\"> \")\n",
    "int_size1 = int(size1)\n",
    "\n",
    "\n",
    "i=0\n",
    "lst=[]\n",
    "while i < int_size1:\n",
    "    ran = random.randint(0,1)\n",
    "    lst.append(ran)\n",
    "    i=i+1\n",
    "#     if i == int_size1:\n",
    "#         print(lst)\n",
    "#         break\n",
    "        \n",
    "lst2=list(split_after(lst, lambda x:x < 1))\n",
    "len_lst2 = len(lst2)\n",
    "#print(len_lst2)\n",
    "\n",
    "i = 0\n",
    "a = 0\n",
    "for j in lst2:\n",
    "    #print(lst2[i])\n",
    "    sum_lst2 = sum(lst2[i])\n",
    "    #print(sum_lst2)\n",
    "    if sum_lst2 > 1:\n",
    "        a=a+1\n",
    "        #print(a,\"a1\")\n",
    "    i=i+1\n",
    "    if i == len_lst2:\n",
    "        print (lst,\"=>\",a)\n",
    "    \n",
    "#         print(a)\n",
    "    \n",
    "    \n",
    "\n",
    "\n",
    "\n",
    "\n",
    "\n",
    "# for j in list:\n",
    "#     #print(j)\n",
    "#     while i < int_size1-1:\n",
    "#         if list[i] == 1: \n",
    "#             #print(i,\"i pertama\")\n",
    "#             #print(list[i], \"value\")\n",
    "#             check = list[i+1] - list[i]\n",
    "#             #print(check, \"check\")\n",
    "#             if check == 0:\n",
    "#                 while i < int_size1-2:\n",
    "#                     if list[i] == 1:\n",
    "#                         check2 = list[i+2] - list[i+1]\n",
    "#                         if check2 < 0:      \n",
    "#                             a = a + 1\n",
    "#                             print(a,\"a dalam check\")\n",
    "#                             break\n",
    "                  \n",
    "#         i=i+1    \n",
    "#         #print(i,\"i kedua\")\n",
    "#         if i == int_size1-1:\n",
    "#             print(a, \"a terakhir\")\n",
    "#             break\n"
   ]
  },
  {
   "cell_type": "code",
   "execution_count": 3,
   "metadata": {},
   "outputs": [
    {
     "name": "stdout",
     "output_type": "stream",
     "text": [
      "Collecting more-itertools\n",
      "  Downloading https://files.pythonhosted.org/packages/45/dc/3241eef99eb45f1def35cf93af35d1cf9ef4c0991792583b8f33ea41b092/more_itertools-7.2.0-py3-none-any.whl (57kB)\n",
      "Installing collected packages: more-itertools\n",
      "Successfully installed more-itertools-7.2.0\n"
     ]
    }
   ],
   "source": [
    "!pip install more-itertools"
   ]
  },
  {
   "cell_type": "code",
   "execution_count": 3,
   "metadata": {},
   "outputs": [
    {
     "name": "stdout",
     "output_type": "stream",
     "text": [
      "input your desired size of the list:\n",
      "> 30\n",
      "[1, 1, 0, 1, 0, 0, 1, 0, 1, 1, 1, 0, 1, 1, 0, 1, 1, 0, 1, 0, 0, 0, 0, 1, 0, 1, 0, 0, 1, 1] => 5\n"
     ]
    }
   ],
   "source": [
    "import random\n",
    "from more_itertools import split_after\n",
    "\n",
    "print(\"input your desired size of the list:\")\n",
    "size1 = input(\"> \")\n",
    "int_size1 = int(size1)\n",
    "\n",
    "i=0\n",
    "lst=[]\n",
    "while i < int_size1:\n",
    "    ran = random.randint(0,1)\n",
    "    lst.append(ran)\n",
    "    i=i+1        \n",
    "lst2=list(split_after(lst, lambda x:x < 1))\n",
    "len_lst2 = len(lst2)\n",
    "\n",
    "k = 0\n",
    "a = 0\n",
    "for j in lst2:\n",
    "    sum_lst2 = sum(lst2[k])\n",
    "    if sum_lst2 > 1:\n",
    "        a=a+1\n",
    "    k=k+1\n",
    "    if k == len_lst2:\n",
    "        print (lst,\"=>\",a)"
   ]
  },
  {
   "cell_type": "code",
   "execution_count": null,
   "metadata": {},
   "outputs": [],
   "source": []
  }
 ],
 "metadata": {
  "kernelspec": {
   "display_name": "Python 3",
   "language": "python",
   "name": "python3"
  },
  "language_info": {
   "codemirror_mode": {
    "name": "ipython",
    "version": 3
   },
   "file_extension": ".py",
   "mimetype": "text/x-python",
   "name": "python",
   "nbconvert_exporter": "python",
   "pygments_lexer": "ipython3",
   "version": "3.7.3"
  }
 },
 "nbformat": 4,
 "nbformat_minor": 2
}
