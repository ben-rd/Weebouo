{
 "cells": [
  {
   "cell_type": "code",
   "execution_count": 13,
   "metadata": {},
   "outputs": [
    {
     "name": "stdout",
     "output_type": "stream",
     "text": [
      "Lets play the game of guessing, guess a number from 1-9:\n",
      "> 8\n",
      "You have tried 1 attempt(s), your number bigger than mine try again\n",
      "> 8\n",
      "You have tried 2 attempt(s), your number bigger than mine try again\n",
      "> 9\n",
      "You have tried 3 attempt(s), your number bigger than mine try again\n",
      "> 5\n",
      "You have tried 4 attempt(s), your number less than mine try again\n",
      "> 7\n",
      "You have tried 5 attempt(s), your number bigger than mine try again\n",
      "> 6\n",
      "6 attempt(s)\n"
     ]
    },
    {
     "ename": "SystemExit",
     "evalue": "Your guessing is right!!!",
     "output_type": "error",
     "traceback": [
      "An exception has occurred, use %tb to see the full traceback.\n",
      "\u001b[1;31mSystemExit\u001b[0m\u001b[1;31m:\u001b[0m Your guessing is right!!!\n"
     ]
    }
   ],
   "source": [
    "import random\n",
    "import sys\n",
    "\n",
    "ran = random.randint(1, 9)\n",
    "\n",
    "print(\"Lets play the game of guessing, guess a number from 1-9:\")\n",
    "guess = str\n",
    "\n",
    "def game(guess,i=1):\n",
    "    guess = input(\"> \")\n",
    "    if guess == \"exit\":\n",
    "        sys.exit(\"you dont want to try again, bad!!\")\n",
    "    guess_int = int(guess)\n",
    "    if guess_int == ran:\n",
    "        print(\"%d attempt(s)\" % i)\n",
    "        sys.exit('Your guessing is right!!!')\n",
    "        \n",
    "    else:\n",
    "        while guess != ran:\n",
    "            if guess_int < ran:\n",
    "                print (\"You have tried %d attempt(s), your number less than mine try again\" % i)\n",
    "                i=i+1\n",
    "                game (guess,i)\n",
    "            else:\n",
    "                print (\"You have tried %d attempt(s), your number bigger than mine try again\" % i)\n",
    "                i=i+1\n",
    "                game (guess,i)\n",
    "    \n",
    "game (guess,i)"
   ]
  },
  {
   "cell_type": "code",
   "execution_count": 5,
   "metadata": {},
   "outputs": [
    {
     "name": "stdout",
     "output_type": "stream",
     "text": [
      "What's your guess?8\n",
      "Too high!\n",
      "What's your guess?7\n",
      "Too high!\n",
      "What's your guess?exit\n"
     ]
    }
   ],
   "source": [
    "import random\n",
    "\n",
    "number = random.randint(1,9)\n",
    "guess = 0\n",
    "count = 0\n",
    "\n",
    "\n",
    "while guess != number and guess != \"exit\":\n",
    "    guess = input(\"What's your guess?\")\n",
    "    \n",
    "    if guess == \"exit\":\n",
    "        break\n",
    "    \n",
    "    guess = int(guess)\n",
    "    count += 1\n",
    "    \n",
    "    if guess < number:\n",
    "        print(\"Too low!\")\n",
    "    elif guess > number:\n",
    "        print(\"Too high!\")\n",
    "    else:\n",
    "        print(\"You got it!\")\n",
    "        print(\"And it only took you\",count,\"tries!\")"
   ]
  },
  {
   "cell_type": "code",
   "execution_count": 7,
   "metadata": {},
   "outputs": [
    {
     "name": "stdout",
     "output_type": "stream",
     "text": [
      "Enter a guess between 1 to 98\n",
      "Too low\n",
      "Enter a guess between 1 to 99\n",
      "Right!\n",
      "You took only 2 tries!\n",
      "7\n"
     ]
    },
    {
     "data": {
      "text/plain": [
       "'7'"
      ]
     },
     "execution_count": 7,
     "metadata": {},
     "output_type": "execute_result"
    }
   ],
   "source": [
    "import random\n",
    "\n",
    "rd = random.randint(1,9)\n",
    "guess = 0\n",
    "c = 0\n",
    "while guess != rd and guess != \"exit\":\n",
    "    guess = input(\"Enter a guess between 1 to 9\")\n",
    "\n",
    "    if guess == \"exit\":\n",
    "        break\n",
    "\n",
    "    guess = int(guess)\n",
    "    c += 1\n",
    "\n",
    "    if guess < rd:\n",
    "        print(\"Too low\")\n",
    "    elif guess > rd:\n",
    "        print(\"Too high\")\n",
    "    else:\n",
    "        print(\"Right!\")\n",
    "        print(\"You took only\", c, \"tries!\")\n",
    "input()"
   ]
  },
  {
   "cell_type": "code",
   "execution_count": 12,
   "metadata": {},
   "outputs": [
    {
     "name": "stdout",
     "output_type": "stream",
     "text": [
      "Alright...\n",
      "What is your lucky number? 7\n",
      "Wrong, too high.\n",
      "What is your lucky number? 9\n",
      "Wrong, too high.\n",
      "What is your lucky number? 4\n",
      "Wrong, too low.\n",
      "What is your lucky number? 5\n",
      "Yes, that's the one, 5.\n",
      "Pretty good, 3 tries.\n"
     ]
    }
   ],
   "source": [
    "import random\n",
    "\n",
    "# Awroken\n",
    "\n",
    "MINIMUM = 1\n",
    "MAXIMUM = 9\n",
    "NUMBER = random.randint(MINIMUM, MAXIMUM)\n",
    "GUESS = None\n",
    "ANOTHER = None\n",
    "TRY = 0\n",
    "RUNNING = True\n",
    "\n",
    "print (\"Alright...\")\n",
    "\n",
    "while RUNNING:\n",
    "    GUESS = input(\"What is your lucky number? \")\n",
    "    if int(GUESS) < NUMBER:\n",
    "        print (\"Wrong, too low.\")\n",
    "    elif int(GUESS) > NUMBER:\n",
    "        print (\"Wrong, too high.\")\n",
    "    elif GUESS.lower() == \"exit\":\n",
    "        print (\"Better luck next time.\")\n",
    "    elif int(GUESS) == NUMBER:\n",
    "        print (\"Yes, that's the one, %s.\" % str(NUMBER))\n",
    "        if TRY < 2:\n",
    "            print (\"Impressive, only %s tries.\" % str(TRY))\n",
    "        elif TRY > 2 and TRY < 10:\n",
    "            print (\"Pretty good, %s tries.\" % str(TRY))\n",
    "        else:\n",
    "            print (\"Bad, %s tries.\" % str(TRY))\n",
    "        RUNNING = False\n",
    "    TRY += 1"
   ]
  },
  {
   "cell_type": "code",
   "execution_count": null,
   "metadata": {},
   "outputs": [],
   "source": []
  }
 ],
 "metadata": {
  "kernelspec": {
   "display_name": "Python 3",
   "language": "python",
   "name": "python3"
  }
 },
 "nbformat": 4,
 "nbformat_minor": 2
}
