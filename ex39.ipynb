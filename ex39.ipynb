{
 "cells": [
  {
   "cell_type": "code",
   "execution_count": 2,
   "metadata": {},
   "outputs": [
    {
     "name": "stdout",
     "output_type": "stream",
     "text": [
      "----------\n",
      "NY state has: New York\n",
      "OR state has: Portland\n",
      "----------\n",
      "michigan abbreviationis: MI\n",
      "florida abbreviation is: FL\n",
      "----------\n",
      "Michigan has: Detroit\n",
      "Florida has : jacksonvile\n",
      "----------\n",
      "Oregon state is abbreviated OR\n",
      "Florida state is abbreviated FL\n",
      "California state is abbreviated CA\n",
      "New York state is abbreviated NY\n",
      "Michigan state is abbreviated MI\n",
      "Texas state is abbreviated TX\n",
      "----------\n",
      "CA has city San Fransisco\n",
      "MI has city Detroit\n",
      "FL has city jacksonvile\n",
      "NY has city New York\n",
      "OR has city Portland\n",
      "TX has city bandung\n",
      "----------\n",
      "Oregon state is abbreviated OR and has city Portland\n",
      "Florida state is abbreviated FL and has city jacksonvile\n",
      "California state is abbreviated CA and has city San Fransisco\n",
      "New York state is abbreviated NY and has city New York\n",
      "Michigan state is abbreviated MI and has city Detroit\n",
      "Texas state is abbreviated TX and has city bandung\n",
      "----------\n",
      "the city for the state 'TX' bandung\n"
     ]
    }
   ],
   "source": [
    "# membuat mapping dari singkatan negara bagian\n",
    "\n",
    "states ={'Oregon':'OR',\n",
    "    'Florida':'FL',\n",
    "    'California':'CA',\n",
    "    'New York':'NY',\n",
    "    'Michigan':'MI'}\n",
    "\n",
    "# membuat basic set dari negara bagian dan kota didalamnya\n",
    "\n",
    "cities ={\n",
    "    'CA': 'San Fransisco',\n",
    "    'MI': 'Detroit',\n",
    "    'FL': 'jacksonvile'}\n",
    "\n",
    "# nambah list negara bagian\n",
    "cities[\"NY\"] = \"New York\"\n",
    "cities[\"OR\"] = \"Portland\"\n",
    "\n",
    "#nambah list state dan city\n",
    "states[\"Texas\"] = \"TX\"\n",
    "cities[\"TX\"] = \"bandung\"\n",
    "\n",
    "# print out some cities\n",
    "print ('-'*10)\n",
    "print (\"NY state has:\",cities['NY'])\n",
    "print (\"OR state has:\",cities['OR'])\n",
    "\n",
    "# print some states\n",
    "print ('-'*10)\n",
    "print (\"michigan abbreviationis:\", states['Michigan'])\n",
    "print (\"florida abbreviation is:\", states['Florida'])\n",
    "\n",
    "#memakai state and cities dict\n",
    "print ('-'*10)\n",
    "print (\"Michigan has:\", cities[states['Michigan']])\n",
    "print (\"Florida has :\", cities[states['Florida']])\n",
    "\n",
    "#print setiap singkatan dari state\n",
    "print ('-'*10)\n",
    "for state, abbrev in states.items():\n",
    "    print (\"%s state is abbreviated %s\" %(state, abbrev))\n",
    "\n",
    "#print setia city dalam state\n",
    "\n",
    "print('-'*10)\n",
    "for abbrev, city in cities.items():\n",
    "    print(\"%s has city %s\" %(abbrev, city))\n",
    "\n",
    "#lakukan keduanya dalam waktu bersamaan\n",
    "print('-'*10)\n",
    "for state, abbrev in states.items():\n",
    "    print(\"%s state is abbreviated %s and has city %s\" % (state,abbrev, cities[abbrev]))\n",
    "\n",
    "print('-'*10)\n",
    "#safely get an abbreviation by state that might not be there\n",
    "state = states.get('Texas', None)\n",
    "\n",
    "if not state:\n",
    "    print(\"sorry, no Texas\")\n",
    "    \n",
    "#get a city with a default value\n",
    "city = cities.get('TX','Does not Exist')\n",
    "print (\"the city for the state 'TX' %s\" % city)\n",
    "\n"
   ]
  },
  {
   "cell_type": "code",
   "execution_count": 3,
   "metadata": {},
   "outputs": [],
   "source": [
    "states ={'Oregon':'OR',\n",
    "    'Florida':'FL',\n",
    "    'California':'CA',\n",
    "    'New York':'NY',\n",
    "    'Michigan':'MI'}\n",
    "\n",
    "cities ={\n",
    "    'CA': 'San Fransisco',\n",
    "    'MI': 'Detroit',\n",
    "    'FL': 'jacksonvile'}"
   ]
  },
  {
   "cell_type": "code",
   "execution_count": 4,
   "metadata": {},
   "outputs": [
    {
     "name": "stdout",
     "output_type": "stream",
     "text": [
      "{'Oregon': 'OR', 'Florida': 'FL', 'California': 'CA', 'New York': 'NY', 'Michigan': 'MI', 'color': 'red'}\n"
     ]
    }
   ],
   "source": [
    "states[\"color\"]=\"red\"\n",
    "print(states)"
   ]
  },
  {
   "cell_type": "code",
   "execution_count": 5,
   "metadata": {},
   "outputs": [
    {
     "name": "stdout",
     "output_type": "stream",
     "text": [
      "Florida has city: jacksonvile\n"
     ]
    }
   ],
   "source": [
    "print (\"Florida has city:\", (cities['FL']))"
   ]
  },
  {
   "cell_type": "code",
   "execution_count": 6,
   "metadata": {},
   "outputs": [
    {
     "name": "stdout",
     "output_type": "stream",
     "text": [
      "jacksonvile\n"
     ]
    }
   ],
   "source": [
    "print(cities['FL'])"
   ]
  },
  {
   "cell_type": "code",
   "execution_count": 7,
   "metadata": {},
   "outputs": [
    {
     "name": "stdout",
     "output_type": "stream",
     "text": [
      "I AM APPLES!\n"
     ]
    }
   ],
   "source": [
    "mystuff = {'apple': \"I AM APPLES!\"}\n",
    "print (mystuff['apple'])"
   ]
  },
  {
   "cell_type": "code",
   "execution_count": 13,
   "metadata": {},
   "outputs": [
    {
     "name": "stdout",
     "output_type": "stream",
     "text": [
      "I AM APPELS!\n",
      "living reflection of a dream\n"
     ]
    }
   ],
   "source": [
    "import mystuff\n",
    "\n",
    "mystuff.apple()\n",
    "print (mystuff.tangerine)"
   ]
  },
  {
   "cell_type": "code",
   "execution_count": 9,
   "metadata": {},
   "outputs": [],
   "source": [
    "class MyStuff(object):\n",
    "    def __init__(self):\n",
    "        self.tangerine = \"And now a thousand years between\"\n",
    "\n",
    "    def apple(self):\n",
    "        print (\"I am classy apples!\")"
   ]
  },
  {
   "cell_type": "code",
   "execution_count": 10,
   "metadata": {},
   "outputs": [],
   "source": [
    "thing = MyStuff()"
   ]
  },
  {
   "cell_type": "code",
   "execution_count": 11,
   "metadata": {},
   "outputs": [
    {
     "name": "stdout",
     "output_type": "stream",
     "text": [
      "I am classy apples!\n"
     ]
    }
   ],
   "source": [
    "thing.apple()"
   ]
  },
  {
   "cell_type": "code",
   "execution_count": 12,
   "metadata": {},
   "outputs": [
    {
     "name": "stdout",
     "output_type": "stream",
     "text": [
      "And now a thousand years between\n"
     ]
    }
   ],
   "source": [
    "print (thing.tangerine)"
   ]
  },
  {
   "cell_type": "code",
   "execution_count": null,
   "metadata": {},
   "outputs": [],
   "source": []
  }
 ],
 "metadata": {
  "kernelspec": {
   "display_name": "Python 3",
   "language": "python",
   "name": "python3"
  },
  "language_info": {
   "codemirror_mode": {
    "name": "ipython",
    "version": 3
   },
   "file_extension": ".py",
   "mimetype": "text/x-python",
   "name": "python",
   "nbconvert_exporter": "python",
   "pygments_lexer": "ipython3",
   "version": "3.7.3"
  }
 },
 "nbformat": 4,
 "nbformat_minor": 2
}
