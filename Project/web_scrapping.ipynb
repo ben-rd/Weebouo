{
 "cells": [
  {
   "cell_type": "code",
   "execution_count": 1,
   "metadata": {},
   "outputs": [
    {
     "name": "stdout",
     "output_type": "stream",
     "text": [
      "['Bahamas Take a Brutal Beating as at Least 5 Die in Hurricane Dorian', 'Trump Plays Down Missile Tests in North Korea, but Experts Raise Alarm', 'She Protests Hong Kong Police Officers, and Is Married to One', 'Jeffrey Epstein’s New York Hunting Ground: Dance Studios']\n"
     ]
    }
   ],
   "source": [
    "import requests\n",
    "from bs4 import BeautifulSoup\n",
    "import re\n",
    "\n",
    "page = requests.get(\"https://www.nytimes.com\").text\n",
    "soup = BeautifulSoup(page,'html')\n",
    "tag = list(soup.children)[2]\n",
    "body = list(tag.children)[3]\n",
    "\n",
    "h2s = body.findAll('h2', class_=\"css-1qwxefa esl82me0\")\n",
    "title = list(h2s)\n",
    "title\n",
    "\n",
    "titles=[]\n",
    "char1 = \"<span>\"\n",
    "char2 = \"</span>\"\n",
    "for i in title:\n",
    "    string = str(i)\n",
    "#     print(string)\n",
    "    m = string[string.find(char1)+6 : string.find(char2)]\n",
    "    titles.append(m)\n",
    "print(titles)\n"
   ]
  },
  {
   "cell_type": "code",
   "execution_count": 5,
   "metadata": {},
   "outputs": [
    {
     "name": "stdout",
     "output_type": "stream",
     "text": [
      "Collecting beautifulsoup4\n",
      "  Downloading https://files.pythonhosted.org/packages/1a/b7/34eec2fe5a49718944e215fde81288eec1fa04638aa3fb57c1c6cd0f98c3/beautifulsoup4-4.8.0-py3-none-any.whl (97kB)\n",
      "Collecting soupsieve>=1.2 (from beautifulsoup4)\n",
      "  Downloading https://files.pythonhosted.org/packages/0b/44/0474f2207fdd601bb25787671c81076333d2c80e6f97e92790f8887cf682/soupsieve-1.9.3-py2.py3-none-any.whl\n",
      "Installing collected packages: soupsieve, beautifulsoup4\n",
      "Successfully installed beautifulsoup4-4.8.0 soupsieve-1.9.3\n"
     ]
    }
   ],
   "source": [
    "!pip install beautifulsoup4"
   ]
  },
  {
   "cell_type": "code",
   "execution_count": null,
   "metadata": {},
   "outputs": [],
   "source": []
  }
 ],
 "metadata": {
  "kernelspec": {
   "display_name": "Python 3",
   "language": "python",
   "name": "python3"
  },
  "language_info": {
   "codemirror_mode": {
    "name": "ipython",
    "version": 3
   },
   "file_extension": ".py",
   "mimetype": "text/x-python",
   "name": "python",
   "nbconvert_exporter": "python",
   "pygments_lexer": "ipython3",
   "version": "3.7.4"
  }
 },
 "nbformat": 4,
 "nbformat_minor": 2
}
