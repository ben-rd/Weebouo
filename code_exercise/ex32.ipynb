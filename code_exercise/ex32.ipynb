{
 "cells": [
  {
   "cell_type": "code",
   "execution_count": 1,
   "metadata": {},
   "outputs": [
    {
     "name": "stdout",
     "output_type": "stream",
     "text": [
      "this is count 1\n",
      "this is count 2\n",
      "this is count 3\n",
      "this is count 4\n",
      "this is count 5\n",
      "A Fruit of type: apples\n",
      "A Fruit of type: oranges\n",
      "A Fruit of type: pears\n",
      "A Fruit of type: apricots\n",
      "I got 1\n",
      "I got 'pennies'\n",
      "I got 2\n",
      "I got 'dimes'\n",
      "I got 3\n",
      "I got 'quarters'\n",
      "adding 0 to the list.\n",
      "adding 1 to the list.\n",
      "adding 2 to the list.\n",
      "adding 3 to the list.\n",
      "adding 4 to the list.\n",
      "adding 5 to the list.\n",
      "element was: 0\n",
      "element was: 1\n",
      "element was: 2\n",
      "element was: 3\n",
      "element was: 4\n",
      "element was: 5\n"
     ]
    }
   ],
   "source": [
    "the_count = [1, 2, 3, 4, 5]\n",
    "fruits = ['apples', 'oranges', 'pears', 'apricots']\n",
    "change = [1, 'pennies', 2, 'dimes', 3, 'quarters']\n",
    "\n",
    "# this first kind of for-loop goes through alist\n",
    "for number in the_count:\n",
    "    print(\"this is count %d\" % number)\n",
    "\n",
    "#same as above\n",
    "for fruit in fruits:\n",
    "    print(\"A Fruit of type: %s\" % fruit)\n",
    "    \n",
    "#also we can go through mixed lists too\n",
    "#notice we have to use %r since we don't know what's in it\n",
    "\n",
    "for i in change:\n",
    "    print(\"I got %r\" % i)\n",
    "    \n",
    "#we can also build lists, first start with an empty one\n",
    "elements = []\n",
    "\n",
    "#then use the range function to do 0 to 5 counts\n",
    "for i in range(0, 6):\n",
    "    print(\"adding %d to the list.\" % i)\n",
    "    #append is a function that lists understand\n",
    "    elements.append(i)\n",
    "    \n",
    "#now we can print them out too\n",
    "for i in elements:\n",
    "    print(\"element was: %d\" % i)\n",
    "\n"
   ]
  },
  {
   "cell_type": "code",
   "execution_count": null,
   "metadata": {},
   "outputs": [],
   "source": []
  }
 ],
 "metadata": {
  "kernelspec": {
   "display_name": "Python 3",
   "language": "python",
   "name": "python3"
  },
  "language_info": {
   "codemirror_mode": {
    "name": "ipython",
    "version": 3
   },
   "file_extension": ".py",
   "mimetype": "text/x-python",
   "name": "python",
   "nbconvert_exporter": "python",
   "pygments_lexer": "ipython3",
   "version": "3.5.6"
  }
 },
 "nbformat": 4,
 "nbformat_minor": 2
}
