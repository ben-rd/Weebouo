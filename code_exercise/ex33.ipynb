{
 "cells": [
  {
   "cell_type": "code",
   "execution_count": 1,
   "metadata": {},
   "outputs": [
    {
     "name": "stdout",
     "output_type": "stream",
     "text": [
      "at the top i is 0\n",
      "numbers now:  [0]\n",
      "at the bottom i is 1\n",
      "at the top i is 1\n",
      "numbers now:  [0, 1]\n",
      "at the bottom i is 2\n",
      "at the top i is 2\n",
      "numbers now:  [0, 1, 2]\n",
      "at the bottom i is 3\n",
      "at the top i is 3\n",
      "numbers now:  [0, 1, 2, 3]\n",
      "at the bottom i is 4\n",
      "at the top i is 4\n",
      "numbers now:  [0, 1, 2, 3, 4]\n",
      "at the bottom i is 5\n",
      "at the top i is 5\n",
      "numbers now:  [0, 1, 2, 3, 4, 5]\n",
      "at the bottom i is 6\n",
      "the numbers:\n",
      "0\n",
      "1\n",
      "2\n",
      "3\n",
      "4\n",
      "5\n"
     ]
    }
   ],
   "source": [
    "i = 0\n",
    "numbers = []\n",
    "\n",
    "while i < 6:\n",
    "    print(\"at the top i is %d\" % i)\n",
    "    numbers.append(i)\n",
    "    \n",
    "    i = i + 1\n",
    "    print(\"numbers now: \", numbers)\n",
    "    print (\"at the bottom i is %d\" % i)\n",
    "    \n",
    "print(\"the numbers:\")\n",
    "\n",
    "for num in numbers:\n",
    "    print(num)"
   ]
  },
  {
   "cell_type": "code",
   "execution_count": null,
   "metadata": {},
   "outputs": [],
   "source": []
  }
 ],
 "metadata": {
  "kernelspec": {
   "display_name": "Python 3",
   "language": "python",
   "name": "python3"
  },
  "language_info": {
   "codemirror_mode": {
    "name": "ipython",
    "version": 3
   },
   "file_extension": ".py",
   "mimetype": "text/x-python",
   "name": "python",
   "nbconvert_exporter": "python",
   "pygments_lexer": "ipython3",
   "version": "3.5.6"
  }
 },
 "nbformat": 4,
 "nbformat_minor": 2
}
