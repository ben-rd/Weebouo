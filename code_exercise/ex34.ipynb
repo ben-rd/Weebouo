{
 "cells": [
  {
   "cell_type": "code",
   "execution_count": 3,
   "metadata": {},
   "outputs": [
    {
     "name": "stdout",
     "output_type": "stream",
     "text": [
      "the animal at 1 is bear\n",
      "the animal at 2 is python\n",
      "the animal at 3 is peacock\n",
      "the animal at 4 is kangaroo\n",
      "the animal at 5 is whale\n",
      "the animal at 6 is platypus\n"
     ]
    }
   ],
   "source": [
    " \n",
    "animals = ['bear', 'python', 'peacock', 'kangaroo', 'whale', 'platypus', 'end']\n",
    "cardinals = ['first', 'second', 'third', 'fourth', 'fifth', 'sixth', 'seventh']\n",
    "   \n",
    "for i in range(1,7):\n",
    "    if i<7:\n",
    "        for animal in animals:\n",
    "            if animal == 'end':\n",
    "                break\n",
    "            else:\n",
    "                print(\"the animal at %d is %s\" %(i,animal))\n",
    "                i=i+1\n",
    "        break\n",
    "\n",
    "    \n",
    "            \n",
    "                "
   ]
  },
  {
   "cell_type": "code",
   "execution_count": 4,
   "metadata": {},
   "outputs": [
    {
     "name": "stdout",
     "output_type": "stream",
     "text": [
      "the animal at 1 is bear\n",
      "The bear is the first\n",
      "the animal at 2 is python\n",
      "The python is the first\n",
      "the animal at 3 is peacock\n",
      "The peacock is the first\n",
      "the animal at 4 is kangaroo\n",
      "The kangaroo is the first\n",
      "the animal at 5 is whale\n",
      "The whale is the first\n",
      "the animal at 6 is platypus\n",
      "The platypus is the first\n"
     ]
    }
   ],
   "source": [
    " \n",
    "animals = ['bear', 'python', 'peacock', 'kangaroo', 'whale', 'platypus', 'end']\n",
    "cardinals = ['first', 'second', 'third', 'fourth', 'fifth', 'sixth', 'seventh']\n",
    "   \n",
    "for i in range(1,7):\n",
    "    if i<7:\n",
    "        for animal in animals:\n",
    "            if animal == 'end':\n",
    "                break\n",
    "            else:\n",
    "                print(\"the animal at %d is %s\" %(i,animal))\n",
    "                i=i+1\n",
    "                for cardinal in cardinals:\n",
    "                    if (animal == 'end' and cardinal == 'seventh'):\n",
    "                        break\n",
    "                    else:\n",
    "                        print(\"The %s is the %s\" %(animal, cardinal))\n",
    "                        break\n",
    "        break\n",
    "\n"
   ]
  },
  {
   "cell_type": "code",
   "execution_count": 5,
   "metadata": {},
   "outputs": [
    {
     "name": "stdout",
     "output_type": "stream",
     "text": [
      "the animal at 0 is bear and its the first\n",
      "the animal at 1 is python and its the second\n",
      "the animal at 2 is peacock and its the third\n",
      "the animal at 3 is kangaroo and its the fourth\n",
      "the animal at 4 is whale and its the fifth\n",
      "the animal at 5 is platypus and its the sixth\n"
     ]
    }
   ],
   "source": [
    "animals = ['bear', 'python', 'peacock', 'kangaroo', 'whale', 'platypus', 'end']\n",
    "cardinals = ['first', 'second', 'third', 'fourth', 'fifth', 'sixth', 'seventh']\n",
    "   \n",
    "for i in range(0,6):\n",
    "    if i<6:\n",
    "        for animal in animals:\n",
    "            if animal == 'end':\n",
    "                break\n",
    "            else:\n",
    "                print(\"the animal at %d is %s and its the %s\" %(i,animal, cardinals[i]))\n",
    "                i=i+1\n",
    "        break\n"
   ]
  },
  {
   "cell_type": "code",
   "execution_count": 28,
   "metadata": {},
   "outputs": [
    {
     "name": "stdout",
     "output_type": "stream",
     "text": [
      "the animal at 1 is bear and it's the first animal\n",
      "the animal at 2 is python and it's the second animal\n",
      "the animal at 3 is peacock and it's the third animal\n",
      "the animal at 4 is kangaroo and it's the fourth animal\n",
      "the animal at 5 is whale and it's the fifth animal\n",
      "the animal at 6 is platypus and it's the sixth animal\n"
     ]
    }
   ],
   "source": [
    "animals = ['bear', 'python', 'peacock', 'kangaroo', 'whale', 'platypus', 'end']\n",
    "cardinals = ['first', 'second', 'third', 'fourth', 'fifth', 'sixth', 'seventh']\n",
    "   \n",
    "for i in range(1,7):\n",
    "    if i<7:\n",
    "        for animal in animals:\n",
    "            if animal == 'end':\n",
    "                break\n",
    "            else:\n",
    "                print(\"the animal at %d is %s and it's the %s animal\" %(i,animal, cardinals[i-1]))\n",
    "                i=i+1\n",
    "        break\n",
    "\n"
   ]
  },
  {
   "cell_type": "code",
   "execution_count": null,
   "metadata": {},
   "outputs": [],
   "source": []
  }
 ],
 "metadata": {
  "kernelspec": {
   "display_name": "Python 3",
   "language": "python",
   "name": "python3"
  },
  "language_info": {
   "codemirror_mode": {
    "name": "ipython",
    "version": 3
   },
   "file_extension": ".py",
   "mimetype": "text/x-python",
   "name": "python",
   "nbconvert_exporter": "python",
   "pygments_lexer": "ipython3",
   "version": "3.7.3"
  }
 },
 "nbformat": 4,
 "nbformat_minor": 2
}
