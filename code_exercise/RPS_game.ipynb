{
 "cells": [
  {
   "cell_type": "code",
   "execution_count": 6,
   "metadata": {},
   "outputs": [
    {
     "name": "stdout",
     "output_type": "stream",
     "text": [
      "lets play Rock Paper Scissor game\n",
      "what is your choice?\n",
      "> rock\n",
      "opponents chose:  paper\n",
      "\n",
      "you lose\n"
     ]
    }
   ],
   "source": [
    "import random\n",
    "\n",
    "print(\"lets play Rock Paper Scissor game\")\n",
    "print(\"what is your choice?\")\n",
    "choice = input(\"> \")\n",
    "\n",
    "list = [\"rock\",\"paper\",\"scissor\"]\n",
    "\n",
    "ran = random.choice(list)\n",
    "print(\"opponents chose: \",ran)\n",
    "\n",
    "if choice == ran:\n",
    "    print(\"\\nits a tie\")\n",
    "elif choice == \"paper\":\n",
    "    if ran == \"scissor\":\n",
    "        print(\"\\nyou lose\")\n",
    "    else:\n",
    "        print(\"\\nyou win\")\n",
    "elif choice == \"scissor\":\n",
    "    if ran == \"rock\":\n",
    "        print(\"\\nyou lose\")\n",
    "    else:\n",
    "        print(\"\\nyou win\")\n",
    "elif choice == \"rock\":\n",
    "    if ran == \"paper\":\n",
    "        print(\"\\nyou lose\")\n",
    "    else:\n",
    "        print(\"\\nyou win\")\n",
    "\n"
   ]
  },
  {
   "cell_type": "code",
   "execution_count": 7,
   "metadata": {},
   "outputs": [
    {
     "name": "stdout",
     "output_type": "stream",
     "text": [
      "What's your name?brn\n",
      "And your name?brn\n",
      "brn, do yo want to choose rock, paper or scissors?paper\n",
      "brn, do you want to choose rock, paper or scissors?scissors\n",
      "Scissors win!\n"
     ]
    }
   ],
   "source": [
    "import sys\n",
    "\n",
    "user1 = input(\"What's your name?\")\n",
    "user2 = input(\"And your name?\")\n",
    "user1_answer = input(\"%s, do yo want to choose rock, paper or scissors?\" % user1)\n",
    "user2_answer = input(\"%s, do you want to choose rock, paper or scissors?\" % user2)\n",
    "\n",
    "def compare(u1, u2):\n",
    "    if u1 == u2:\n",
    "        return(\"It's a tie!\")\n",
    "    elif u1 == 'rock':\n",
    "        if u2 == 'scissors':\n",
    "            return(\"Rock wins!\")\n",
    "        else:\n",
    "            return(\"Paper wins!\")\n",
    "    elif u1 == 'scissors':\n",
    "        if u2 == 'paper':\n",
    "            return(\"Scissors win!\")\n",
    "        else:\n",
    "            return(\"Rock wins!\")\n",
    "    elif u1 == 'paper':\n",
    "        if u2 == 'rock':\n",
    "            return(\"Paper wins!\")\n",
    "        else:\n",
    "            return(\"Scissors win!\")\n",
    "    else:\n",
    "        return(\"Invalid input! You have not entered rock, paper or scissors, try again.\")\n",
    "        sys.exit()\n",
    "\n",
    "print(compare(user1_answer, user2_answer))"
   ]
  },
  {
   "cell_type": "code",
   "execution_count": null,
   "metadata": {},
   "outputs": [],
   "source": []
  }
 ],
 "metadata": {
  "kernelspec": {
   "display_name": "Python 3",
   "language": "python",
   "name": "python3"
  },
  "language_info": {
   "codemirror_mode": {
    "name": "ipython",
    "version": 3
   },
   "file_extension": ".py",
   "mimetype": "text/x-python",
   "name": "python",
   "nbconvert_exporter": "python",
   "pygments_lexer": "ipython3",
   "version": "3.7.3"
  }
 },
 "nbformat": 4,
 "nbformat_minor": 2
}
