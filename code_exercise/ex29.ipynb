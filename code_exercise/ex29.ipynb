{
 "cells": [
  {
   "cell_type": "code",
   "execution_count": 7,
   "metadata": {},
   "outputs": [
    {
     "name": "stdout",
     "output_type": "stream",
     "text": [
      "too many cats! The word is doomed!\n",
      "the world is dry!\n",
      "people are greater than or equal to dogs\n",
      "people are less than or equal to dogs\n",
      "people are dogs\n"
     ]
    }
   ],
   "source": [
    "people = 20\n",
    "cats = 30\n",
    "dogs = 15\n",
    "\n",
    "if people < cats:\n",
    "    print(\"too many cats! The word is doomed!\")\n",
    "    \n",
    "if people > cats:\n",
    "    print(\"not many cats! The world is saved!\")\n",
    "    \n",
    "if people < dogs:\n",
    "    print(\"the world is drooled on!\")\n",
    "    \n",
    "if people > dogs:\n",
    "    print(\"the world is dry!\")\n",
    "    \n",
    "dogs += 5\n",
    "\n",
    "if people >= dogs:\n",
    "    print(\"people are greater than or equal to dogs\")\n",
    "    \n",
    "if people <= dogs:\n",
    "    print(\"people are less than or equal to dogs\")\n",
    "    \n",
    "if people == dogs:\n",
    "    print(\"people are dogs\")\n"
   ]
  },
  {
   "cell_type": "code",
   "execution_count": null,
   "metadata": {},
   "outputs": [],
   "source": []
  }
 ],
 "metadata": {
  "kernelspec": {
   "display_name": "Python 3",
   "language": "python",
   "name": "python3"
  },
  "language_info": {
   "codemirror_mode": {
    "name": "ipython",
    "version": 3
   },
   "file_extension": ".py",
   "mimetype": "text/x-python",
   "name": "python",
   "nbconvert_exporter": "python",
   "pygments_lexer": "ipython3",
   "version": "3.5.6"
  }
 },
 "nbformat": 4,
 "nbformat_minor": 2
}
