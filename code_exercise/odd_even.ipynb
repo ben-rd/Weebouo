{
 "cells": [
  {
   "cell_type": "code",
   "execution_count": 10,
   "metadata": {},
   "outputs": [
    {
     "name": "stdout",
     "output_type": "stream",
     "text": [
      "input your number:\n",
      "> 2897564\n",
      "your number is 2897564 and its an odd number\n",
      "your number is a multiple of 4\n",
      "now lets input another number to divides previous one:\n",
      "> 28\n",
      "2897564 can not be evenly divided by 28\n"
     ]
    }
   ],
   "source": [
    "print(\"input your number:\")\n",
    "\n",
    "number = input(\"> \")\n",
    "\n",
    "a = int(number)\n",
    "b = a%2\n",
    "\n",
    "if b == 0:\n",
    "    print(\"your number is %d and its an odd number\" % a)\n",
    "else:\n",
    "    print(\"your number is %d and its an even number\" % a)\n",
    "    \n",
    "c = a%4\n",
    "\n",
    "if c == 0:\n",
    "    print(\"your number is a multiple of 4\")\n",
    "    \n",
    "print(\"now lets input another number to divides previous one:\")\n",
    "\n",
    "div = input(\"> \")\n",
    "d = int (div)\n",
    "\n",
    "if d < a:\n",
    "    e = a%d\n",
    "    if e == 0:\n",
    "        print(\"%d can be evenly divided by %d\" %(a, d))\n",
    "    else:\n",
    "        print(\"%d can not be evenly divided by %d\" %(a, d))\n",
    "else:\n",
    "    print(\"please input another number less than first input\")\n"
   ]
  },
  {
   "cell_type": "code",
   "execution_count": null,
   "metadata": {},
   "outputs": [],
   "source": []
  },
  {
   "cell_type": "code",
   "execution_count": null,
   "metadata": {},
   "outputs": [],
   "source": []
  }
 ],
 "metadata": {
  "kernelspec": {
   "display_name": "Python 3",
   "language": "python",
   "name": "python3"
  },
  "language_info": {
   "codemirror_mode": {
    "name": "ipython",
    "version": 3
   },
   "file_extension": ".py",
   "mimetype": "text/x-python",
   "name": "python",
   "nbconvert_exporter": "python",
   "pygments_lexer": "ipython3",
   "version": "3.7.3"
  }
 },
 "nbformat": 4,
 "nbformat_minor": 2
}
