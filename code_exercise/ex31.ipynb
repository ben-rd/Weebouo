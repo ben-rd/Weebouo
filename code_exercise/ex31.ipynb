{
 "cells": [
  {
   "cell_type": "code",
   "execution_count": 13,
   "metadata": {},
   "outputs": [
    {
     "name": "stdout",
     "output_type": "stream",
     "text": [
      "you enter a dark room with two doors. do you go through door #1 or door #2?\n",
      "> 3\n",
      "you stumble around and fall on a knife and die. good job!\n"
     ]
    }
   ],
   "source": [
    "print(\"you enter a dark room with two doors. do you go through door #1 or door #2?\")\n",
    "\n",
    "door = input(\"> \")\n",
    "\n",
    "if door == \"1\":\n",
    "    print(\"there is a giant bear here eating cheese cake. what do tou do?\")\n",
    "    print(\"1. take the cake.\")\n",
    "    print(\"2. scream at the bear.\")\n",
    "    \n",
    "    bear = input(\"> \")\n",
    "\n",
    "    if bear == \"1\":\n",
    "        print(\"the bear eats your face off. good job!\")\n",
    "    elif bear == \"2\":\n",
    "        print(\"the bear eats your egs off. good job!\")\n",
    "    else:\n",
    "        print(\"well, doing %s is probably better. bear runs away.\" % bear)\n",
    "\n",
    "elif door == \"2\":\n",
    "    print(\"you stare into the endless abyss at cthulhu's retina.\")\n",
    "    print(\"1. blueberries.\")\n",
    "    print(\"2. yellow jacket clothespins.\")\n",
    "    print(\"3. understanding revolvers yelling melodies\")\n",
    "    \n",
    "    insanity = input(\"> \")\n",
    "    \n",
    "    if insanity == \"1\" or insanity == \"2\":\n",
    "        print(\"your body survives powered by a mind of jello. good job!\")\n",
    "    else:\n",
    "        print(\"the insanity rots your eyes into a pool of muck. good job!\")\n",
    "\n",
    "else:\n",
    "    print(\"you stumble around and fall on a knife and die. good job!\")\n",
    "    \n",
    "\n",
    "\n"
   ]
  },
  {
   "cell_type": "markdown",
   "metadata": {},
   "source": [
    "# "
   ]
  }
 ],
 "metadata": {
  "kernelspec": {
   "display_name": "Python 3",
   "language": "python",
   "name": "python3"
  },
  "language_info": {
   "codemirror_mode": {
    "name": "ipython",
    "version": 3
   },
   "file_extension": ".py",
   "mimetype": "text/x-python",
   "name": "python",
   "nbconvert_exporter": "python",
   "pygments_lexer": "ipython3",
   "version": "3.5.6"
  }
 },
 "nbformat": 4,
 "nbformat_minor": 2
}
