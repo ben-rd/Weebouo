{
 "cells": [
  {
   "cell_type": "code",
   "execution_count": 4,
   "metadata": {},
   "outputs": [
    {
     "name": "stdout",
     "output_type": "stream",
     "text": [
      "input your desired size of the 1st list:\n",
      "> 90\n",
      "input your range of number:\n",
      "> 90\n",
      "This is the first list:\n",
      " [90, 89, 1, 67, 33, 87, 34, 12, 59, 23, 58, 78, 42, 23, 74, 22, 38, 73, 14, 6, 85, 14, 37, 18, 17, 31, 7, 22, 56, 76, 39, 23, 44, 70, 72, 49, 78, 49, 13, 56, 20, 36, 76, 82, 40, 83, 2, 23, 79, 55, 51, 83, 13, 85, 42, 81, 75, 38, 48, 45, 78, 13, 49, 81, 15, 2, 65, 53, 69, 88, 32, 19, 44, 70, 28, 16, 81, 12, 66, 33, 34, 70, 72, 83, 25, 52, 81, 56, 4, 4]\n",
      "now input your second's size list:\n",
      "> 90\n",
      "range of number:\n",
      "> 90\n",
      "This is the second list:\n",
      " [49, 11, 46, 26, 68, 63, 55, 55, 74, 61, 45, 36, 23, 69, 82, 60, 87, 70, 23, 52, 66, 71, 30, 5, 82, 47, 30, 56, 5, 59, 50, 12, 82, 73, 35, 27, 1, 4, 17, 80, 67, 35, 46, 88, 45, 12, 77, 76, 52, 34, 43, 89, 34, 27, 45, 78, 80, 26, 61, 24, 9, 6, 42, 84, 26, 56, 28, 68, 22, 4, 61, 32, 51, 72, 62, 42, 52, 20, 89, 25, 72, 58, 47, 6, 25, 71, 72, 80, 47, 63]\n",
      "\n",
      "this are the numbers that common between the list \n",
      "\n",
      "Common number: [1, 4, 6, 12, 17, 20, 22, 23, 25, 28, 32, 34, 36, 42, 45, 49, 51, 52, 55, 56, 58, 59, 66, 67, 69, 70, 72, 73, 74, 76, 78, 82, 87, 88, 89]\n",
      "35 numbers\n"
     ]
    }
   ],
   "source": [
    "import random\n",
    "\n",
    "#define the lists\n",
    "#a = [1, 1, 2, 3, 5, 8, 13, 21, 34, 55, 89]\n",
    "#b = [1, 2, 3, 4, 5, 6, 7, 8, 9, 10, 11, 12, 13]\n",
    "\n",
    "#input random number and size of the list\n",
    "print(\"input your desired size of the 1st list:\")\n",
    "size1 = input(\"> \")\n",
    "print(\"input your range of number:\")\n",
    "range1 = input(\"> \")\n",
    "\n",
    "int_size1 = int(size1)\n",
    "int_range1 = int(range1)\n",
    "s1 = 0\n",
    "a =[]\n",
    "\n",
    "while s1 <= int_size1:\n",
    "    s1=s1+1\n",
    "    ran1 = random.randint(1,int_range1)\n",
    "    a.append(ran1)\n",
    "    \n",
    "    if s1 == int_size1:\n",
    "        print(\"This is the first list:\\n\", a[0:s1])\n",
    "        \n",
    "print (\"now input your second's size list:\")\n",
    "size2 = input(\"> \")\n",
    "print (\"range of number:\")\n",
    "range2 = input(\"> \")\n",
    "\n",
    "int_size2 = int(size2)\n",
    "int_range2 = int(range2)\n",
    "s2 = 0\n",
    "b = []\n",
    "\n",
    "while s2 < int_size2:\n",
    "    s2=s2+1\n",
    "    ran2 = random.randint(1,int_range2)\n",
    "    b.append(ran2)\n",
    "    \n",
    "    if s2 == int_size2:\n",
    "        print(\"This is the second list:\\n\", b[0:s2])\n",
    "\n",
    "#define variable for loop limitation\n",
    "#lenga = len(a)\n",
    "#ina = lenga - 1\n",
    "i = 0\n",
    "\n",
    "#initiate list to store common nomber between lists\n",
    "list_a = []\n",
    "\n",
    "#loop for search common number between list \n",
    "while i < s1:\n",
    "    value_a = a[i]\n",
    "    #print (a[i])\n",
    "    check = (value_a in b)\n",
    "    #print(check)\n",
    "    i=i+1\n",
    "    #print(i)\n",
    "    #print(s1)\n",
    " #store the common number to the new list \n",
    "    if check == True:\n",
    "        list_a.append(a[i-1])\n",
    "#         print(list_a)\n",
    "    elif i == s1:\n",
    "        print(\"\\nthis are the numbers that common between the list \\n\")\n",
    "        list_a = list(dict.fromkeys(list_a))\n",
    "        list_a.sort()\n",
    "        print(\"Common number:\",list_a) \n",
    "        print(len(list_a), \"numbers\")\n",
    "        \n",
    "           "
   ]
  },
  {
   "cell_type": "code",
   "execution_count": 3,
   "metadata": {},
   "outputs": [
    {
     "name": "stdout",
     "output_type": "stream",
     "text": [
      "[26, 16, 8, 24, 9, 4, 23, 14, 1, 15, 19, 13]\n",
      "[6, 15, 17, 9, 20, 26, 28, 3, 8, 29, 4, 18, 19, 12, 14, 1]\n",
      "[1, 4, 8, 9, 14, 15, 19, 26]\n"
     ]
    }
   ],
   "source": [
    "import random\n",
    "a = random.sample(range(1,30), 12)\n",
    "b = random.sample(range(1,30), 16)\n",
    "\n",
    "print(a)\n",
    "print(b)\n",
    "result = [i for i in set(a) if i in b]\n",
    "\n",
    "print(result)"
   ]
  },
  {
   "cell_type": "code",
   "execution_count": null,
   "metadata": {},
   "outputs": [],
   "source": []
  },
  {
   "cell_type": "code",
   "execution_count": null,
   "metadata": {},
   "outputs": [],
   "source": []
  }
 ],
 "metadata": {
  "kernelspec": {
   "display_name": "Python 3",
   "language": "python",
   "name": "python3"
  },
  "language_info": {
   "codemirror_mode": {
    "name": "ipython",
    "version": 3
   },
   "file_extension": ".py",
   "mimetype": "text/x-python",
   "name": "python",
   "nbconvert_exporter": "python",
   "pygments_lexer": "ipython3",
   "version": "3.7.3"
  }
 },
 "nbformat": 4,
 "nbformat_minor": 2
}
