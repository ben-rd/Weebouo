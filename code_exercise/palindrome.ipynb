{
 "cells": [
  {
   "cell_type": "code",
   "execution_count": 33,
   "metadata": {},
   "outputs": [
    {
     "name": "stdout",
     "output_type": "stream",
     "text": [
      "input word:\n",
      "> hahahahahahahahahahaahahahahah\n",
      "not palindrom\n"
     ]
    }
   ],
   "source": [
    "print(\"input word:\")\n",
    "word = input(\"> \")\n",
    "lw = len(word)\n",
    "a = lw%2\n",
    "\n",
    "list_word = list(word)\n",
    "i=0\n",
    "j=0\n",
    "\n",
    "if a==0:\n",
    "    c = lw/2\n",
    "    while i < c: \n",
    "        j=j-(i+1)\n",
    "        if list_word[i] == list_word[j]:\n",
    "            i=i+1\n",
    "            j=0\n",
    "        else:\n",
    "            print(\"not palindrom\")\n",
    "            break\n",
    "    if i == c:\n",
    "        print (\"your word(s) is palindrome\")\n",
    "        \n",
    "elif a > 0:\n",
    "    d = (lw-1)/2\n",
    "    while i < d:\n",
    "        j=j-(i+1)\n",
    "        if list_word[i] == list_word[j]:\n",
    "            i=i+1\n",
    "            j=0\n",
    "        else:\n",
    "            print(\"not palindrom\")\n",
    "            break\n",
    "    if i == d:\n",
    "        print (\"your word(s) is palindrome\")\n",
    "        \n",
    "        \n",
    "\n",
    "       \n"
   ]
  },
  {
   "cell_type": "code",
   "execution_count": null,
   "metadata": {},
   "outputs": [],
   "source": []
  }
 ],
 "metadata": {
  "kernelspec": {
   "display_name": "Python 3",
   "language": "python",
   "name": "python3"
  },
  "language_info": {
   "codemirror_mode": {
    "name": "ipython",
    "version": 3
   },
   "file_extension": ".py",
   "mimetype": "text/x-python",
   "name": "python",
   "nbconvert_exporter": "python",
   "pygments_lexer": "ipython3",
   "version": "3.7.3"
  }
 },
 "nbformat": 4,
 "nbformat_minor": 2
}
