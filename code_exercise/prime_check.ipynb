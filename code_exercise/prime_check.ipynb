{
 "cells": [
  {
   "cell_type": "code",
   "execution_count": 16,
   "metadata": {},
   "outputs": [
    {
     "name": "stdout",
     "output_type": "stream",
     "text": [
      "Give me a number: 8\n",
      "its not prime\n"
     ]
    }
   ],
   "source": [
    "def prime(number):\n",
    "    return int(input(number))\n",
    "\n",
    "input_number = prime(\"Give me a number: \")\n",
    "check1 = input_number%2\n",
    "check2 = input_number%3\n",
    "\n",
    "if input_number >1:\n",
    "    if check1 != 0:\n",
    "        if check2 !=0:\n",
    "            print(\"its prime number\")\n",
    "        \n",
    "    else:\n",
    "        print(\"its not prime\")\n",
    "else:\n",
    "    print(\"its not prime\")\n",
    "    \n",
    "\n",
    "    "
   ]
  },
  {
   "cell_type": "code",
   "execution_count": 31,
   "metadata": {},
   "outputs": [
    {
     "name": "stdout",
     "output_type": "stream",
     "text": [
      "give me a number:100\n",
      "its not prime\n"
     ]
    }
   ],
   "source": [
    "def prime(number):\n",
    "    \n",
    "    if input_number >1:\n",
    "        if check1 != 0:\n",
    "            if check2 !=0:\n",
    "                print(\"its prime number\")\n",
    "        \n",
    "        else:\n",
    "            print(\"its not prime\")\n",
    "    else:\n",
    "        print(\"its not prime\")\n",
    "\n",
    "number = input(\"give me a number:\")\n",
    "check1 = input_number%2\n",
    "check2 = input_number%3\n",
    "prime(number)\n",
    "    "
   ]
  },
  {
   "cell_type": "code",
   "execution_count": 1,
   "metadata": {},
   "outputs": [
    {
     "name": "stdout",
     "output_type": "stream",
     "text": [
      "Insert a number: 50\n",
      "[2, 5, 10, 25]\n",
      "NOT prime\n"
     ]
    }
   ],
   "source": [
    "num = int(input('Insert a number: '))\n",
    "a = [x for x in range(2, num) if num % x == 0]\n",
    "print(a)\n",
    "\n",
    "def is_prime(n):\n",
    "    if num > 1:\n",
    "        if len(a) == 0:\n",
    "            print ('prime')\n",
    "        else:\n",
    "            print ('NOT prime')\n",
    "    else:\n",
    "        print ('NOT prime')\n",
    "\n",
    "is_prime(num)\n"
   ]
  },
  {
   "cell_type": "code",
   "execution_count": 6,
   "metadata": {},
   "outputs": [
    {
     "data": {
      "text/plain": [
       "1"
      ]
     },
     "execution_count": 6,
     "metadata": {},
     "output_type": "execute_result"
    }
   ],
   "source": [
    "15%2\n"
   ]
  },
  {
   "cell_type": "code",
   "execution_count": 7,
   "metadata": {},
   "outputs": [
    {
     "data": {
      "text/plain": [
       "0"
      ]
     },
     "execution_count": 7,
     "metadata": {},
     "output_type": "execute_result"
    }
   ],
   "source": [
    "15%3"
   ]
  },
  {
   "cell_type": "code",
   "execution_count": null,
   "metadata": {},
   "outputs": [],
   "source": []
  }
 ],
 "metadata": {
  "kernelspec": {
   "display_name": "Python 3",
   "language": "python",
   "name": "python3"
  },
  "language_info": {
   "codemirror_mode": {
    "name": "ipython",
    "version": 3
   },
   "file_extension": ".py",
   "mimetype": "text/x-python",
   "name": "python",
   "nbconvert_exporter": "python",
   "pygments_lexer": "ipython3",
   "version": "3.7.3"
  }
 },
 "nbformat": 4,
 "nbformat_minor": 2
}
