{
 "cells": [
  {
   "cell_type": "code",
   "execution_count": 1,
   "metadata": {},
   "outputs": [
    {
     "name": "stdout",
     "output_type": "stream",
     "text": [
      "input your desired size of the list:\n",
      "> 8\n",
      "input your range of number:\n",
      "> 80\n",
      "This is the list: [5, 37, 43, 46, 47, 52, 69, 80]\n",
      "[5, 80]\n"
     ]
    }
   ],
   "source": [
    "import random\n",
    "\n",
    "print(\"input your desired size of the list:\")\n",
    "size1 = input(\"> \")\n",
    "print(\"input your range of number:\")\n",
    "range1 = input(\"> \")\n",
    "\n",
    "int_size1 = int(size1)\n",
    "int_range1 = int(range1)\n",
    "s1 = 0\n",
    "a =[]\n",
    "\n",
    "while s1 <= int_size1:\n",
    "    s1=s1+1\n",
    "    ran1 = random.randint(1,int_range1)\n",
    "    a.append(ran1)\n",
    "    \n",
    "    if s1 == int_size1:\n",
    "        lista = a[0:s1]\n",
    "        lista.sort()    \n",
    "        print(\"This is the list:\", lista)\n",
    "        for x in lista:\n",
    "            z = int(lista[0])\n",
    "            listb = [z]\n",
    "            if x == lista[s1-1]:\n",
    "                listb.append(x)\n",
    "        print(listb)"
   ]
  },
  {
   "cell_type": "code",
   "execution_count": 15,
   "metadata": {},
   "outputs": [
    {
     "name": "stdout",
     "output_type": "stream",
     "text": [
      "input your desired size of the list:\n",
      "> 9\n",
      "input your range of number:\n",
      "> 100\n",
      "[14, 14, 41, 44, 49, 51, 52, 73, 85]\n",
      "This are the first and last element: [14, 85]\n"
     ]
    }
   ],
   "source": [
    "import random\n",
    "\n",
    "print(\"input your desired size of the list:\")\n",
    "size1 = input(\"> \")\n",
    "print(\"input your range of number:\")\n",
    "range1 = input(\"> \")\n",
    "\n",
    "int_size1 = int(size1)\n",
    "int_range1 = int(range1)\n",
    "s1 = 0\n",
    "a =[]\n",
    "\n",
    "def list_end(lista):\n",
    "    return [lista[0], lista[len(lista)-1]]\n",
    "\n",
    "while s1 <= int_size1:\n",
    "    s1=s1+1\n",
    "    ran1 = random.randint(1,int_range1)\n",
    "    a.append(ran1)\n",
    "    \n",
    "    if s1 == int_size1:\n",
    "        lista = a[0:s1]\n",
    "        lista.sort()   \n",
    "        print(lista)\n",
    "        print(\"This are the first and last element:\", list_end(lista))\n",
    "        \n",
    "         "
   ]
  },
  {
   "cell_type": "code",
   "execution_count": null,
   "metadata": {},
   "outputs": [],
   "source": []
  }
 ],
 "metadata": {
  "kernelspec": {
   "display_name": "Python 3",
   "language": "python",
   "name": "python3"
  },
  "language_info": {
   "codemirror_mode": {
    "name": "ipython",
    "version": 3
   },
   "file_extension": ".py",
   "mimetype": "text/x-python",
   "name": "python",
   "nbconvert_exporter": "python",
   "pygments_lexer": "ipython3",
   "version": "3.7.3"
  }
 },
 "nbformat": 4,
 "nbformat_minor": 2
}
