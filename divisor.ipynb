{
 "cells": [
  {
   "cell_type": "code",
   "execution_count": 6,
   "metadata": {},
   "outputs": [
    {
     "name": "stdout",
     "output_type": "stream",
     "text": [
      "whats your desired number to be checked?\n",
      "> 72\n",
      "your number is 72 and can be evenly divided by:\n",
      " [1, 2, 3, 4, 6, 8, 9, 12, 18, 24, 36, 72]\n"
     ]
    }
   ],
   "source": [
    "print(\"whats your desired number to be checked?\")\n",
    "num = input(\"> \")\n",
    "a = int(num)\n",
    "i = 1\n",
    "div_list = []\n",
    "\n",
    "while i <= a:\n",
    "    b = a%i\n",
    "    \n",
    "    if b == 0:\n",
    "        div_list.append(i)\n",
    "        if i == a:\n",
    "            print(\"your number is %d and can be evenly divided by:\\n\" %a, div_list[0:i])\n",
    "            break\n",
    "            \n",
    "    i = i+1\n",
    "    \n",
    "    "
   ]
  },
  {
   "cell_type": "code",
   "execution_count": null,
   "metadata": {},
   "outputs": [],
   "source": []
  }
 ],
 "metadata": {
  "kernelspec": {
   "display_name": "Python 3",
   "language": "python",
   "name": "python3"
  },
  "language_info": {
   "codemirror_mode": {
    "name": "ipython",
    "version": 3
   },
   "file_extension": ".py",
   "mimetype": "text/x-python",
   "name": "python",
   "nbconvert_exporter": "python",
   "pygments_lexer": "ipython3",
   "version": "3.7.3"
  }
 },
 "nbformat": 4,
 "nbformat_minor": 2
}
