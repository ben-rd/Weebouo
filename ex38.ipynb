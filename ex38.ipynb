{
 "cells": [
  {
   "cell_type": "code",
   "execution_count": 11,
   "metadata": {},
   "outputs": [
    {
     "name": "stdout",
     "output_type": "stream",
     "text": [
      "Apples Oranges Crows Telephone Light Sugar\n",
      "kaga sampe sepuluh barang diatas, yok benerin\n",
      "adding: boy\n",
      "there is 7 things inside the list\n",
      "adding: girl\n",
      "there is 8 things inside the list\n",
      "adding: banana\n",
      "there is 9 things inside the list\n",
      "adding: corn\n",
      "there is 10 things inside the list\n",
      "there we go: ['Apples', 'Oranges', 'Crows', 'Telephone', 'Light', 'Sugar', 'boy', 'girl', 'banana', 'corn']\n",
      "lets do something with the stuff\n",
      "Oranges\n",
      "corn\n",
      "corn\n",
      "Apples Oranges Crows Telephone Light Sugar boy girl banana\n",
      "Telephone#Light\n"
     ]
    }
   ],
   "source": [
    "ten_things = \"Apples Oranges Crows Telephone Light Sugar\"\n",
    "\n",
    "print(ten_things)\n",
    "print(\"kaga sampe sepuluh barang diatas, yok benerin\")\n",
    "\n",
    "stuff = ten_things.split(' ')\n",
    "more_stuff = [\"Day\", \"night\", \"Song\", \"Frisbee\", \"corn\", \"banana\", \"girl\", \"boy\"]\n",
    "\n",
    "while len(stuff) != 10:\n",
    "    next_one = more_stuff.pop()\n",
    "    print(\"adding:\", next_one)\n",
    "    stuff.append(next_one)\n",
    "    print (\"there is %d things inside the list\" %len(stuff))\n",
    "    \n",
    "print(\"there we go:\", stuff)\n",
    "\n",
    "print(\"lets do something with the stuff\")\n",
    "\n",
    "print(stuff[1])\n",
    "print(stuff[-1])\n",
    "print(stuff.pop())\n",
    "print(' '.join(stuff))\n",
    "print('#'.join(stuff[3:5]))"
   ]
  },
  {
   "cell_type": "code",
   "execution_count": 5,
   "metadata": {},
   "outputs": [],
   "source": [
    "things = ['a', 'b', 'c', 'd']"
   ]
  },
  {
   "cell_type": "code",
   "execution_count": 7,
   "metadata": {},
   "outputs": [
    {
     "name": "stdout",
     "output_type": "stream",
     "text": [
      "b\n"
     ]
    }
   ],
   "source": [
    "print (things[1])"
   ]
  },
  {
   "cell_type": "code",
   "execution_count": null,
   "metadata": {},
   "outputs": [],
   "source": []
  }
 ],
 "metadata": {
  "kernelspec": {
   "display_name": "Python 3",
   "language": "python",
   "name": "python3"
  },
  "language_info": {
   "codemirror_mode": {
    "name": "ipython",
    "version": 3
   },
   "file_extension": ".py",
   "mimetype": "text/x-python",
   "name": "python",
   "nbconvert_exporter": "python",
   "pygments_lexer": "ipython3",
   "version": "3.7.3"
  }
 },
 "nbformat": 4,
 "nbformat_minor": 2
}
