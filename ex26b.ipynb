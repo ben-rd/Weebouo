{
 "cells": [
  {
   "cell_type": "code",
   "execution_count": 27,
   "metadata": {},
   "outputs": [
    {
     "name": "stdout",
     "output_type": "stream",
     "text": [
      "Let's practice everything.\n",
      "You'd need to know 'bout escapes with \\ that do \n",
      " newlines and \t tabs.\n",
      "--------------\n",
      "\n",
      "\tThe lovely world\n",
      "with logic so firmly planted\n",
      "cannot discern \n",
      " the needs of love\n",
      "nor comprehend passion from intuition\n",
      "and requires an explantion\n",
      "\n",
      "\t\twhere there is none.\n",
      "\n",
      "--------------\n",
      "This should be five: 5\n",
      "With a starting point of: 10000\n",
      "We'd have 5000000 jelly_beans, 5000 jars, and 50 crates.\n",
      "We can also do that this way:\n",
      "We'd have 500000 jelly_beans, 500 jars, and 5 crabapples.\n"
     ]
    }
   ],
   "source": [
    "print (\"Let's practice everything.\")\n",
    "print ('You\\'d need to know \\'bout escapes with \\\\ that do \\n newlines and \\t tabs.')\n",
    "\n",
    "poem = \"\"\"\n",
    "\\tThe lovely world\n",
    "with logic so firmly planted\n",
    "cannot discern \\n the needs of love\n",
    "nor comprehend passion from intuition\n",
    "and requires an explantion\n",
    "\\n\\t\\twhere there is none.\n",
    "\"\"\"\n",
    "\n",
    "\n",
    "print (\"--------------\")\n",
    "print (poem)\n",
    "print (\"--------------\")\n",
    "\n",
    "five = 10 - 2 + 2 - 5\n",
    "print (\"This should be five: %s\" % five)\n",
    "\n",
    "def secret_formula(start_point):\n",
    "    jelly_beans = start_point * 500\n",
    "    jars = jelly_beans / 1000\n",
    "    crates = jars / 100\n",
    "    return jelly_beans, jars, crates\n",
    "\n",
    "start_point = 10000\n",
    "jelly_beans, jars, crates = secret_formula(start_point)\n",
    "\n",
    "print (\"With a starting point of: %d\" % start_point)\n",
    "print (\"We'd have %d jelly_beans, %d jars, and %d crates.\" % (jelly_beans, jars, crates))\n",
    "\n",
    "start_point = start_point / 10\n",
    "\n",
    "print (\"We can also do that this way:\")\n",
    "print (\"We'd have %d jelly_beans, %d jars, and %d crabapples.\" % secret_formula(start_point))\n",
    "\n"
   ]
  },
  {
   "cell_type": "code",
   "execution_count": null,
   "metadata": {},
   "outputs": [],
   "source": []
  }
 ],
 "metadata": {
  "kernelspec": {
   "display_name": "Python 3",
   "language": "python",
   "name": "python3"
  },
  "language_info": {
   "codemirror_mode": {
    "name": "ipython",
    "version": 3
   },
   "file_extension": ".py",
   "mimetype": "text/x-python",
   "name": "python",
   "nbconvert_exporter": "python",
   "pygments_lexer": "ipython3",
   "version": "3.5.6"
  }
 },
 "nbformat": 4,
 "nbformat_minor": 2
}
