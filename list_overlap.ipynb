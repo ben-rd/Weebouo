{
 "cells": [
  {
   "cell_type": "code",
   "execution_count": 1,
   "metadata": {},
   "outputs": [
    {
     "name": "stdout",
     "output_type": "stream",
     "text": [
      "input your desired size of the 1st list:\n",
      "> 50\n",
      "input your range of number:\n",
      "> 50\n",
      "This is the first list:\n",
      " [43, 11, 10, 5, 38, 26, 44, 18, 17, 23, 14, 9, 16, 4, 18, 50, 47, 35, 4, 12, 33, 12, 38, 19, 50, 24, 7, 39, 43, 10, 29, 32, 26, 43, 22, 10, 33, 29, 15, 21, 38, 41, 22, 43, 22, 24, 42, 1, 45, 47]\n",
      "now input your second's size list:\n",
      "> 50\n",
      "range of number:\n",
      "> 50\n",
      "This is the second list:\n",
      " [10, 27, 27, 2, 46, 31, 6, 25, 17, 30, 5, 49, 30, 35, 49, 40, 16, 31, 3, 50, 17, 29, 10, 10, 9, 47, 46, 41, 45, 46, 29, 10, 10, 46, 38, 32, 18, 36, 43, 38, 6, 29, 13, 28, 2, 33, 19, 36, 17, 31]\n",
      "\n",
      "this are the numbers that common between the list \n",
      "\n",
      "Common number: [5, 9, 10, 16, 17, 18, 19, 29, 32, 33, 35, 38, 41, 43, 45, 47, 50]\n",
      "17 numbers\n"
     ]
    }
   ],
   "source": [
    "import random\n",
    "\n",
    "#define the lists\n",
    "#a = [1, 1, 2, 3, 5, 8, 13, 21, 34, 55, 89]\n",
    "#b = [1, 2, 3, 4, 5, 6, 7, 8, 9, 10, 11, 12, 13]\n",
    "\n",
    "#input random number and size of the list\n",
    "print(\"input your desired size of the 1st list:\")\n",
    "size1 = input(\"> \")\n",
    "print(\"input your range of number:\")\n",
    "range1 = input(\"> \")\n",
    "\n",
    "int_size1 = int(size1)\n",
    "int_range1 = int(range1)\n",
    "s1 = 0\n",
    "a =[]\n",
    "\n",
    "while s1 <= int_size1:\n",
    "    s1=s1+1\n",
    "    ran1 = random.randint(1,int_range1)\n",
    "    a.append(ran1)\n",
    "    \n",
    "    if s1 == int_size1:\n",
    "        print(\"This is the first list:\\n\", a[0:s1])\n",
    "        \n",
    "print (\"now input your second's size list:\")\n",
    "size2 = input(\"> \")\n",
    "print (\"range of number:\")\n",
    "range2 = input(\"> \")\n",
    "\n",
    "int_size2 = int(size2)\n",
    "int_range2 = int(range2)\n",
    "s2 = 0\n",
    "b = []\n",
    "\n",
    "while s2 < int_size2:\n",
    "    s2=s2+1\n",
    "    ran2 = random.randint(1,int_range2)\n",
    "    b.append(ran2)\n",
    "    \n",
    "    if s2 == int_size2:\n",
    "        print(\"This is the second list:\\n\", b[0:s2])\n",
    "\n",
    "#define variable for loop limitation\n",
    "#lenga = len(a)\n",
    "#ina = lenga - 1\n",
    "i = 0\n",
    "\n",
    "#initiate list to store common nomber between lists\n",
    "list_a = []\n",
    "\n",
    "#loop for search common number between list \n",
    "while i < s1:\n",
    "    value_a = a[i]\n",
    "    #print (a[i])\n",
    "    check = (value_a in b)\n",
    "    #print(check)\n",
    "    i=i+1\n",
    "    #print(i)\n",
    "    #print(s1)\n",
    " #store the common number to the new list \n",
    "    if check == True:\n",
    "        list_a.append(a[i-1])\n",
    "#         print(list_a)\n",
    "    elif i == s1:\n",
    "        print(\"\\nthis are the numbers that common between the list \\n\")\n",
    "        list_a = list(dict.fromkeys(list_a))\n",
    "        list_a.sort()\n",
    "        print(\"Common number:\",list_a) \n",
    "        print(len(list_a), \"numbers\")\n",
    "        \n",
    "           "
   ]
  },
  {
   "cell_type": "code",
   "execution_count": 2,
   "metadata": {},
   "outputs": [
    {
     "name": "stdout",
     "output_type": "stream",
     "text": [
      "[11, 28, 4, 23, 26, 15, 2, 17, 8, 22, 24, 7]\n",
      "[17, 29, 20, 26, 6, 2, 10, 1, 25, 28, 24, 5, 13, 18, 12, 8]\n",
      "[2, 8, 17, 24, 26, 28]\n"
     ]
    }
   ],
   "source": [
    "import random\n",
    "a = random.sample(range(1,30), 12)\n",
    "b = random.sample(range(1,30), 16)\n",
    "\n",
    "print(a)\n",
    "print(b)\n",
    "result = [i for i in set(a) if i in b]\n",
    "\n",
    "print(result)"
   ]
  },
  {
   "cell_type": "code",
   "execution_count": null,
   "metadata": {},
   "outputs": [],
   "source": []
  }
 ],
 "metadata": {
  "kernelspec": {
   "display_name": "Python 3",
   "language": "python",
   "name": "python3"
  },
  "language_info": {
   "codemirror_mode": {
    "name": "ipython",
    "version": 3
   },
   "file_extension": ".py",
   "mimetype": "text/x-python",
   "name": "python",
   "nbconvert_exporter": "python",
   "pygments_lexer": "ipython3",
   "version": "3.7.3"
  }
 },
 "nbformat": 4,
 "nbformat_minor": 2
}
